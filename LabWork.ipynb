{
 "cells": [
  {
   "cell_type": "code",
   "execution_count": 2,
   "metadata": {},
   "outputs": [
    {
     "name": "stdin",
     "output_type": "stream",
     "text": [
      "Hey whats your name? Madison\n"
     ]
    },
    {
     "name": "stdout",
     "output_type": "stream",
     "text": [
      "So your name is Madison\n"
     ]
    },
    {
     "name": "stdin",
     "output_type": "stream",
     "text": [
      "Whats your favorite food? Bagle\n"
     ]
    },
    {
     "name": "stdout",
     "output_type": "stream",
     "text": [
      "Cool so your name is Madison and your favorite food is Bagle\n"
     ]
    }
   ],
   "source": [
    "name= input(\"Hey whats your name?\")\n",
    "\n",
    "print(\"So your name is \" + name)\n",
    "\n",
    "food= input(\"Whats your favorite food?\")\n",
    "\n",
    "print(\"Cool so your name is \" + name + \" and your favorite food is \" + food)\n"
   ]
  },
  {
   "cell_type": "code",
   "execution_count": null,
   "metadata": {},
   "outputs": [],
   "source": []
  }
 ],
 "metadata": {
  "kernelspec": {
   "display_name": "Python 3",
   "language": "python",
   "name": "python3"
  },
  "language_info": {
   "codemirror_mode": {
    "name": "ipython",
    "version": 3
   },
   "file_extension": ".py",
   "mimetype": "text/x-python",
   "name": "python",
   "nbconvert_exporter": "python",
   "pygments_lexer": "ipython3",
   "version": "3.8.3"
  }
 },
 "nbformat": 4,
 "nbformat_minor": 4
}
